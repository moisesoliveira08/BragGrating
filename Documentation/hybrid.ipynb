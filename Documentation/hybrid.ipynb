{
 "cells": [
  {
   "cell_type": "code",
   "execution_count": 1,
   "metadata": {},
   "outputs": [],
   "source": [
    "import numpy as np\n",
    "import sympy as sp\n",
    "from sympy import Symbol\n",
    "from sympy import solve, Poly, Eq, Function, exp\n",
    "import math\n",
    "import matplotlib.pyplot as plt\n",
    "from numpy.lib.scimath import sqrt as csqrt\n",
    "from scipy.signal import find_peaks\n",
    "import os\n",
    "import imp\n",
    "import matplotlib.pyplot as plt\n",
    "import sys\n",
    "\n",
    "#windows path\n",
    "os.add_dll_directory('C:\\\\Program Files\\\\Lumerical\\\\v202\\\\api\\\\python\\\\') \n",
    "lumapi = imp.load_source('lumapi','C:\\\\Program Files\\\\Lumerical\\\\v202\\\\api\\\\python\\\\lumapi.py')\n",
    "\n",
    "#linux path\n",
    "#sys.path.append(\"/opt/lumerical/v221/api/python\") #Default linux lumapi path\n",
    "#import lumapi\n",
    "#sys.path.append(os.path.dirname('/home/moises/Downloads/'))\n"
   ]
  },
  {
   "cell_type": "code",
   "execution_count": 2,
   "metadata": {},
   "outputs": [],
   "source": [
    "fdtd = lumapi.FDTD(filename= 'MMI.fsp')"
   ]
  },
  {
   "cell_type": "markdown",
   "metadata": {},
   "source": [
    "## parameters"
   ]
  },
  {
   "cell_type": "code",
   "execution_count": 3,
   "metadata": {},
   "outputs": [],
   "source": [
    "W1 = 1.48e-6\n",
    "W2 = 1.48e-6\n",
    "W3 = 1.6e-6\n",
    "W4 = 0.5e-6\n",
    "W5 = 0.7e-6\n",
    "W6 = 0.2e-6\n",
    "L1 = 1e-6\n",
    "L2 = 2.4e-6\n",
    "L3 = 1.6e-6\n",
    "height = 0.22e-6\n",
    "material_core = 'Si (Silicon) - Palik Copy 1'\n",
    "material_subs = 'SiO2 (Glass) - Palik Copy 1'"
   ]
  },
  {
   "cell_type": "code",
   "execution_count": 11,
   "metadata": {},
   "outputs": [
    {
     "name": "stdout",
     "output_type": "stream",
     "text": [
      "{!!}\n",
      "\n",
      "{!!}\n",
      "\n",
      "{!!}\n",
      "\n",
      "{!!}\n",
      "\n",
      "{!!}\n",
      "\n",
      "{!!}\n",
      "\n"
     ]
    }
   ],
   "source": [
    "fdtd.switchtolayout()\n",
    "fdtd.selectall()\n",
    "fdtd.delete()\n",
    "\n",
    "fdtd.addobject('linear_taper')\n",
    "fdtd.set({'x':0,\n",
    "'y':W6/2 + W5/2,\n",
    "'z':0,\n",
    "'thickness':height,\n",
    "'angle_side':90,\n",
    "'width_l':W4,\n",
    "'width_r':W5,\n",
    "'len':L1,\n",
    "'material':material_core})\n",
    "\n",
    "fdtd.addobject('linear_taper')\n",
    "fdtd.set({'x':0,\n",
    "'y':-W6/2 - W5/2,\n",
    "'z':0,\n",
    "'thickness':height,\n",
    "'angle_side':90,\n",
    "'width_l':W4,\n",
    "'width_r':W5,\n",
    "'len':L1,\n",
    "'material':material_core})\n",
    "\n",
    "fdtd.addobject('linear_taper')\n",
    "fdtd.set({'x':L1/2 + L2/2,\n",
    "'y':0,\n",
    "'z':0,\n",
    "'thickness':height,\n",
    "'angle_side':90,\n",
    "'width_l':2*W5 + W6,\n",
    "'width_r':W1,\n",
    "'len':L2,\n",
    "'material':material_core})\n",
    "\n",
    "fdtd.addrect()\n",
    "fdtd.set({'x min':L1/2 + L2,\n",
    "'x max':L1/2 + L2 + 2*L3,\n",
    "'y':0,\n",
    "'y span':W2,\n",
    "'z':0,\n",
    "'z span':height,\n",
    "'material':material_core})\n",
    "\n",
    "fdtd.addobject('linear_taper')\n",
    "fdtd.set({'x':L1/2 + L2 + 2*L3 + L2/2,\n",
    "'y':0,\n",
    "'z':0,\n",
    "'thickness':height,\n",
    "'angle_side':90,\n",
    "'width_l':W1,\n",
    "'width_r':W3,\n",
    "'len':L2,\n",
    "'material':material_core})\n",
    "\n",
    "fdtd.addobject('linear_taper')\n",
    "fdtd.set({'x':L1/2 + L2 + 2*L3 + L2 + L1/2,\n",
    "'y':W6/2 + W5/2,\n",
    "'z':0,\n",
    "'thickness':height,\n",
    "'angle_side':90,\n",
    "'width_l':W5,\n",
    "'width_r':W4,\n",
    "'len':L1,\n",
    "'material':material_core})\n",
    "\n",
    "fdtd.addobject('linear_taper')\n",
    "fdtd.set({'x':L1/2 + L2 + 2*L3 + L2 + L1/2,\n",
    "'y':-W6/2 - W5/2,\n",
    "'z':0,\n",
    "'thickness':height,\n",
    "'angle_side':90,\n",
    "'width_l':W5,\n",
    "'width_r':W4,\n",
    "'len':L1,\n",
    "'material':material_core})\n",
    "\n",
    "fdtd.addrect()\n",
    "z_span = 4e-6\n",
    "z = -height/2 - z_span/2\n",
    "fdtd.set({'x':L1/2 + L2 + L3,\n",
    "'x span':15e-6,\n",
    "'y':0,\n",
    "'y span':10e-6,\n",
    "'z':z,\n",
    "'z span':z_span,\n",
    "'material':material_subs})\n",
    "\n",
    "fdtd.addrect()"
   ]
  },
  {
   "cell_type": "code",
   "execution_count": 9,
   "metadata": {},
   "outputs": [
    {
     "name": "stdout",
     "output_type": "stream",
     "text": [
      "{!!}\n",
      "\n"
     ]
    },
    {
     "name": "stderr",
     "output_type": "stream",
     "text": [
      "C:\\Program Files\\Lumerical\\v202\\api\\python\\lumapi.py:138: UserWarning: Multiple objects named '::model::rectangle'. Use of this object may give unexpected results.\n",
      "  warnings.warn(message)\n"
     ]
    }
   ],
   "source": [
    "fdtd.addrect()\n",
    "\n",
    "z_span = 4e-6\n",
    "z = -height/2 - z_span/2\n",
    "fdtd.set({'x':L1/2 + L2 + L3,\n",
    "'x span':5e-6,\n",
    "'y':0,\n",
    "'y span':10e-6,\n",
    "'z':z,\n",
    "'z span':z_span,\n",
    "'material':material_subs})"
   ]
  }
 ],
 "metadata": {
  "interpreter": {
   "hash": "2acae53b781dbbe58683eb5e6463927eee0329e59e460090e5918c51b2426604"
  },
  "kernelspec": {
   "display_name": "Python 3.9.12 ('base')",
   "language": "python",
   "name": "python3"
  },
  "language_info": {
   "codemirror_mode": {
    "name": "ipython",
    "version": 3
   },
   "file_extension": ".py",
   "mimetype": "text/x-python",
   "name": "python",
   "nbconvert_exporter": "python",
   "pygments_lexer": "ipython3",
   "version": "3.9.12"
  },
  "orig_nbformat": 4
 },
 "nbformat": 4,
 "nbformat_minor": 2
}
