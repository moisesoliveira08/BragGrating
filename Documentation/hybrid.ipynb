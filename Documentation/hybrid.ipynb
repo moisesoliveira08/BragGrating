{
 "cells": [
  {
   "cell_type": "code",
   "execution_count": 1,
   "metadata": {},
   "outputs": [],
   "source": [
    "import numpy as np\n",
    "import sympy as sp\n",
    "from sympy import Symbol\n",
    "from sympy import solve, Poly, Eq, Function, exp\n",
    "import math\n",
    "import matplotlib.pyplot as plt\n",
    "from numpy.lib.scimath import sqrt as csqrt\n",
    "from scipy.signal import find_peaks\n",
    "import os\n",
    "import imp\n",
    "import matplotlib.pyplot as plt\n",
    "import sys\n",
    "\n",
    "#windows path\n",
    "os.add_dll_directory('C:\\\\Program Files\\\\Lumerical\\\\v202\\\\api\\\\python\\\\') \n",
    "lumapi = imp.load_source('lumapi','C:\\\\Program Files\\\\Lumerical\\\\v202\\\\api\\\\python\\\\lumapi.py')\n",
    "\n",
    "#linux path\n",
    "#sys.path.append(\"/opt/lumerical/v221/api/python\") #Default linux lumapi path\n",
    "#import lumapi\n",
    "#sys.path.append(os.path.dirname('/home/moises/Downloads/'))\n"
   ]
  },
  {
   "cell_type": "code",
   "execution_count": 79,
   "metadata": {},
   "outputs": [],
   "source": [
    "fdtd = lumapi.FDTD(filename= 'MMI.fsp')"
   ]
  },
  {
   "cell_type": "markdown",
   "metadata": {},
   "source": [
    "## parameters"
   ]
  },
  {
   "cell_type": "code",
   "execution_count": 89,
   "metadata": {},
   "outputs": [],
   "source": [
    "W1 = 1.48e-6\n",
    "W2 = 1.48e-6\n",
    "W3 = 1.6e-6\n",
    "W4 = 0.5e-6\n",
    "W5 = 0.7e-6\n",
    "W6 = 0.2e-6\n",
    "L1 = 1e-6\n",
    "L2 = 2.4e-6\n",
    "L3 = 1.6e-6\n",
    "height = 0.22e-6\n",
    "c = 299792458\n",
    "length = 2*(L1 + L2 + L3)\n",
    "band_0 = 1.53e-6\n",
    "band_1 = 1.565e-6\n",
    "material_core = 'Si (Silicon) - Palik Copy 1'\n",
    "material_subs = 'SiO2 (Glass) - Palik Copy 1'"
   ]
  },
  {
   "cell_type": "code",
   "execution_count": 209,
   "metadata": {},
   "outputs": [
    {
     "name": "stdout",
     "output_type": "stream",
     "text": [
      "{!!}\n",
      "\n",
      "{!!}\n",
      "\n",
      "{!!}\n",
      "\n",
      "{!!}\n",
      "\n",
      "{!!}\n",
      "\n"
     ]
    },
    {
     "name": "stderr",
     "output_type": "stream",
     "text": [
      "C:\\Program Files\\Lumerical\\v202\\api\\python\\lumapi.py:138: UserWarning: Multiple objects named '::model::rectangle'. Use of this object may give unexpected results.\n",
      "  warnings.warn(message)\n"
     ]
    }
   ],
   "source": [
    "fdtd.switchtolayout()\n",
    "fdtd.selectall()\n",
    "fdtd.delete()\n",
    "\n",
    "fdtd.addobject('linear_taper')\n",
    "fdtd.set({'name':'taper1',\n",
    "'x':0,\n",
    "'y':W6/2 + W5/2,\n",
    "'z':0,\n",
    "'thickness':height,\n",
    "'angle_side':90,\n",
    "'width_l':W4,\n",
    "'width_r':W5,\n",
    "'len':L1,\n",
    "'material':material_core})\n",
    "\n",
    "fdtd.addobject('linear_taper')\n",
    "fdtd.set({'name':'taper2',\n",
    "'x':0,\n",
    "'y':-W6/2 - W5/2,\n",
    "'z':0,\n",
    "'thickness':height,\n",
    "'angle_side':90,\n",
    "'width_l':W4,\n",
    "'width_r':W5,\n",
    "'len':L1,\n",
    "'material':material_core})\n",
    "\n",
    "fdtd.addobject('linear_taper')\n",
    "fdtd.set({'name':'taper3',\n",
    "'x':L1/2 + L2/2,\n",
    "'y':0,\n",
    "'z':0,\n",
    "'thickness':height,\n",
    "'angle_side':90,\n",
    "'width_l':2*W5 + W6,\n",
    "'width_r':W1,\n",
    "'len':L2,\n",
    "'material':material_core})\n",
    "\n",
    "fdtd.addrect()\n",
    "fdtd.set({'x min':L1/2 + L2,\n",
    "'x max':L1/2 + L2 + 2*L3,\n",
    "'y':0,\n",
    "'y span':W2,\n",
    "'z':0,\n",
    "'z span':height,\n",
    "'material':material_core})\n",
    "\n",
    "fdtd.addobject('linear_taper')\n",
    "fdtd.set({'name':'taper4',\n",
    "'x':L1/2 + L2 + 2*L3 + L2/2,\n",
    "'y':0,\n",
    "'z':0,\n",
    "'thickness':height,\n",
    "'angle_side':90,\n",
    "'width_l':W1,\n",
    "'width_r':W3,\n",
    "'len':L2,\n",
    "'material':material_core})\n",
    "\n",
    "fdtd.addobject('linear_taper')\n",
    "fdtd.set({'name':'taper5',\n",
    "'x':L1/2 + L2 + 2*L3 + L2 + L1/2,\n",
    "'y':W6/2 + W5/2,\n",
    "'z':0,\n",
    "'thickness':height,\n",
    "'angle_side':90,\n",
    "'width_l':W5,\n",
    "'width_r':W4,\n",
    "'len':L1,\n",
    "'material':material_core})\n",
    "\n",
    "fdtd.addobject('linear_taper')\n",
    "fdtd.set({'name':'taper6',\n",
    "'x':L1/2 + L2 + 2*L3 + L2 + L1/2,\n",
    "'y':-W6/2 - W5/2,\n",
    "'z':0,\n",
    "'thickness':height,\n",
    "'angle_side':90,\n",
    "'width_l':W5,\n",
    "'width_r':W4,\n",
    "'len':L1,\n",
    "'material':material_core})\n",
    "\n",
    "fdtd.addrect()\n",
    "z_span = 4e-6\n",
    "z = -height/2 - z_span/2\n",
    "fdtd.set({'x':L1/2 + L2 + L3,\n",
    "'x span':15e-6,\n",
    "'y':0,\n",
    "'y span':10e-6,\n",
    "'z':z,\n",
    "'z span':z_span,\n",
    "'material':material_subs})\n",
    "\n",
    "fdtd.addrect()\n",
    "fdtd.set({'x':-L1,\n",
    "'x span':L1,\n",
    "'y':W6/2 + W5/2,\n",
    "'y span':W4,\n",
    "'z':0,\n",
    "'z span':height,\n",
    "'material':material_core})\n",
    "\n",
    "fdtd.addrect()\n",
    "fdtd.set({'x':-L1,\n",
    "'x span':L1,\n",
    "'y':-W6/2 - W5/2,\n",
    "'y span':W4,\n",
    "'z':0,\n",
    "'z span':height,\n",
    "'material':material_core})\n",
    "\n",
    "fdtd.addrect()\n",
    "fdtd.set({'x':L1/2 + L2 + 2*L3 + L2 + L1/2 + L1,\n",
    "'x span':L1,\n",
    "'y':W6/2 + W5/2,\n",
    "'y span':W4,\n",
    "'z':0,\n",
    "'z span':height,\n",
    "'material':material_core})\n",
    "\n",
    "fdtd.addrect()\n",
    "fdtd.set({'x':L1/2 + L2 + 2*L3 + L2 + L1/2 + L1,\n",
    "'x span':L1,\n",
    "'y':-W6/2 - W5/2,\n",
    "'y span':W4,\n",
    "'z':0,\n",
    "'z span':height,\n",
    "'material':material_core})"
   ]
  },
  {
   "cell_type": "code",
   "execution_count": 210,
   "metadata": {},
   "outputs": [],
   "source": [
    "fdtd.switchtolayout()\n",
    "fdtd.select('FDTD')\n",
    "fdtd.delete()\n",
    "fdtd.select('monitor')\n",
    "fdtd.delete()\n",
    "fdtd.select('mesh')\n",
    "fdtd.delete()\n",
    "dx = 0.01e-6\n",
    "mesh = 4\n",
    "fdtd.addfdtd()\n",
    "nof = 500 ## number of frequency points\n",
    "fdtd.set({'x min':-L1,\n",
    "'x max':L1/2 + L2 + 2*L3 + L2 + L1/2 + L1,\n",
    "'y':0,\n",
    "'y span':2e-6,\n",
    "'z':0,\n",
    "'z span':2e-6,\n",
    "'simulation time':1250e-15,\n",
    "'mesh accuracy':mesh})\n",
    "\n",
    "fdtd.addport()\n",
    "fdtd.set({'injection axis':'x-axis',\n",
    "'direction':'Forward',\n",
    "'x':-L1/2,\n",
    "'y':W6/2 + W5/2,\n",
    "'y span':0.75e-6,\n",
    "'z':0,\n",
    "'z span':2e-6})\n",
    "\n",
    "fdtd.addport()\n",
    "fdtd.set({'injection axis':'x-axis',\n",
    "'direction':'Forward',\n",
    "'x':-L1/2,\n",
    "'y':-W6/2 - W5/2,\n",
    "'y span':0.75e-6,\n",
    "'z':0,\n",
    "'z span':2e-6})\n",
    "\n",
    "fdtd.addport()\n",
    "fdtd.set({'injection axis':'x-axis',\n",
    "'direction':'Backward',\n",
    "'x':L1/2 + L2 + 2*L3 + L2 + L1/2 + L1/2,\n",
    "'y':W6/2 + W5/2,\n",
    "'y span':0.75e-6,\n",
    "'z':0,\n",
    "'z span':2e-6})\n",
    "\n",
    "fdtd.addport()\n",
    "fdtd.set({'injection axis':'x-axis',\n",
    "'direction':'Backward',\n",
    "'x':L1/2 + L2 + 2*L3 + L2 + L1/2 + L1/2,\n",
    "'y':-W6/2 - W5/2,\n",
    "'y span':0.75e-6,\n",
    "'z':0,\n",
    "'z span':2e-6})\n",
    "\n",
    "fdtd.select('FDTD::ports')\n",
    "fdtd.set('monitor frequency points', nof)\n",
    "#fdtd.set('wavelength start',1.53e-6)\n",
    "#fdtd.set('wavelengh stop',1.565e-6)\n",
    "\n",
    "fdtd.addprofile()\n",
    "fdtd.set({'x min':-L1,\n",
    "'x max':L1/2 + L2 + 2*L3 + L2 + L1/2 + L1,\n",
    "'y':0,\n",
    "'y span':2e-6,\n",
    "'z':0,\n",
    "'override global monitor settings':1,\n",
    "'frequency points':nof})"
   ]
  },
  {
   "cell_type": "code",
   "execution_count": null,
   "metadata": {},
   "outputs": [],
   "source": [
    "fdtd.switchtolayout()\n",
    "fdtd.addmesh()\n",
    "fdtd.set({'based on a structure':1,\n",
    "'structure':'taper1',\n",
    "'dx':dx,\n",
    "'dy':0.015e-6,\n",
    "'override z mesh':0})\n",
    "\n",
    "fdtd.addmesh()\n",
    "fdtd.set({'based on a structure':1,\n",
    "'structure':'taper5',\n",
    "'dx':dx,\n",
    "'dy':dx,\n",
    "'override z mesh':0})\n",
    "\n",
    "fdtd.addmesh()\n",
    "fdtd.set({'based on a structure':1,\n",
    "'structure':'taper6',\n",
    "'dx':dx,\n",
    "'dy':dx,\n",
    "'override z mesh':0})\n",
    "\n",
    "##"
   ]
  },
  {
   "cell_type": "code",
   "execution_count": 64,
   "metadata": {},
   "outputs": [],
   "source": [
    "font = {'family' : 'serif',\n",
    "        'weight' : 'normal',\n",
    "        'size'   : 16}"
   ]
  },
  {
   "cell_type": "code",
   "execution_count": 177,
   "metadata": {},
   "outputs": [
    {
     "data": {
      "text/plain": [
       "(1.53e-06, 1.565e-06)"
      ]
     },
     "execution_count": 177,
     "metadata": {},
     "output_type": "execute_result"
    },
    {
     "data": {
      "image/png": "[encoded data removed]",
      "text/plain": [
       "<Figure size 432x288 with 1 Axes>"
      ]
     },
     "metadata": {
      "needs_background": "light"
     },
     "output_type": "display_data"
    }
   ],
   "source": [
    "R1 = fdtd.getresult('FDTD::ports::port 2', 'T')\n",
    "R2 = fdtd.getresult('FDTD::ports::port 2', 'T')\n",
    "R3 = fdtd.getresult('FDTD::ports::port 3', 'T')\n",
    "\n",
    "T2 = 10*np.log10(R2['T'])\n",
    "T3 = 10*np.log10(R3['T'])\n",
    "wavelength = R2['lambda']\n",
    "\n",
    "plt.rc('font', **font)\n",
    "plt.rc('axes', linewidth=2)\n",
    "plt.plot(wavelength,-T2 )\n",
    "plt.plot(wavelength,-T3)\n",
    "plt.ylim([2, 4])\n",
    "plt.xlim([1.53e-6,1.565e-6])"
   ]
  },
  {
   "cell_type": "code",
   "execution_count": 184,
   "metadata": {},
   "outputs": [],
   "source": [
    "port2S = fdtd.getresult('FDTD::ports::port 2','S')\n",
    "port3S = fdtd.getresult('FDTD::ports::port 3','S')\n",
    "#S21_phs_n1 = fdtd.unwrap(angle(port2S.S))*180/(np.pi)\n",
    "#S21_phs_n2 = fdtd.unwrap(angle(port2S.S))*180/(np.pi)"
   ]
  },
  {
   "cell_type": "code",
   "execution_count": 200,
   "metadata": {},
   "outputs": [
    {
     "data": {
      "text/plain": [
       "[<matplotlib.lines.Line2D at 0x17f76474d60>]"
      ]
     },
     "execution_count": 200,
     "metadata": {},
     "output_type": "execute_result"
    },
    {
     "data": {
      "image/png": "[encoded data removed]",
      "text/plain": [
       "<Figure size 432x288 with 1 Axes>"
      ]
     },
     "metadata": {
      "needs_background": "light"
     },
     "output_type": "display_data"
    }
   ],
   "source": [
    "phase_2 = fdtd.angle(port2S['S'])\n",
    "phase_3 = fdtd.angle(port3S['S'])\n",
    "angle_2 = fdtd.unwrap(phase_2)*180/(np.pi)\n",
    "angle_3 = fdtd.unwrap(phase_3)*180/(np.pi)\n",
    "lambd = port2S['lambda']\n",
    "\n",
    "plt.plot(lambd, angle_2)\n",
    "plt.plot(lambd, angle_3)\n",
    "plt.plot(lambd, angle_2 - angle_3)"
   ]
  },
  {
   "cell_type": "code",
   "execution_count": 203,
   "metadata": {},
   "outputs": [
    {
     "data": {
      "text/plain": [
       "[<matplotlib.lines.Line2D at 0x17f78b13ca0>]"
      ]
     },
     "execution_count": 203,
     "metadata": {},
     "output_type": "execute_result"
    },
    {
     "data": {
      "image/png": "[encoded data removed]",
      "text/plain": [
       "<Figure size 432x288 with 1 Axes>"
      ]
     },
     "metadata": {
      "needs_background": "light"
     },
     "output_type": "display_data"
    }
   ],
   "source": [
    "plt.plot(lambd, angle_2 - angle_3)"
   ]
  },
  {
   "cell_type": "code",
   "execution_count": null,
   "metadata": {},
   "outputs": [],
   "source": []
  }
 ],
 "metadata": {
  "interpreter": {
   "hash": "2acae53b781dbbe58683eb5e6463927eee0329e59e460090e5918c51b2426604"
  },
  "kernelspec": {
   "display_name": "Python 3.9.12 ('base')",
   "language": "python",
   "name": "python3"
  },
  "language_info": {
   "codemirror_mode": {
    "name": "ipython",
    "version": 3
   },
   "file_extension": ".py",
   "mimetype": "text/x-python",
   "name": "python",
   "nbconvert_exporter": "python",
   "pygments_lexer": "ipython3",
   "version": "3.9.12"
  },
  "orig_nbformat": 4
 },
 "nbformat": 4,
 "nbformat_minor": 2
}
